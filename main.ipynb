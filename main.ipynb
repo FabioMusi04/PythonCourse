{
  "cells": [
   {
    "cell_type": "markdown",
    "metadata": {},
    "source": [
     "# ATM Simulation Project\n",
     "\n",
     "This project implements a simple ATM system using Object-Oriented Programming (OOP) concepts.\n",
     "\n",
     "The ATM allows users to perform basic operations like checking their balance, depositing money, withdrawing funds, and viewing transaction history.\n",
     "It also includes optional enhancements such as:\n",
     "- Implementing a PIN system.\n",
     "- Handling multiple user accounts.\n",
     "- Tracking transaction history.\n",
     "\n",
     "Let's start by defining the classes that make up the ATM system."
    ]
   },
   {
    "cell_type": "code",
    "execution_count": null,
    "metadata": {},
    "outputs": [],
    "source": [
     "# Step 1: Basic ATM Class\n",
     "\n",
     "class ATM:\n",
     "    def __init__(self, initial_balance=0):\n",
     "        self.balance = initial_balance\n",
     "        self.transactions = []  # To store transactions (for the transaction history feature)\n",
     "    \n",
     "    def check_balance(self):\n",
     "        return self.balance\n",
     "    \n",
     "    def deposit(self, amount):\n",
     "        if amount > 0:\n",
     "            self.balance += amount\n",
     "            self.transactions.append(f\"Deposited: {amount}\")\n",
     "            return f\"${amount} deposited successfully.\"\n",
     "        else:\n",
     "            return \"Deposit amount must be greater than 0.\"\n",
     "    \n",
     "    def withdraw(self, amount):\n",
     "        if 0 < amount <= self.balance:\n",
     "            self.balance -= amount\n",
     "            self.transactions.append(f\"Withdrawn: {amount}\")\n",
     "            return f\"${amount} withdrawn successfully.\"\n",
     "        else:\n",
     "            return \"Insufficient funds or invalid amount.\"\n",
     "    \n",
     "    def view_transactions(self):\n",
     "        if self.transactions:\n",
     "            return \"\\n\".join(self.transactions)\n",
     "        else:\n",
     "            return \"No transactions available.\""
    ]
   },
   {
    "cell_type": "markdown",
    "metadata": {},
    "source": [
     "### Step 2: User Class\n",
     "Next, we need a `User` class to store the details of multiple users, including their PIN and balance."
    ]
   },
   {
    "cell_type": "code",
    "execution_count": null,
    "metadata": {},
    "outputs": [],
    "source": [
     "# Step 2: User Class\n",
     "\n",
     "class User:\n",
     "    def __init__(self, username, pin, balance=0):\n",
     "        self.username = username\n",
     "        self.pin = pin\n",
     "        self.atm = ATM(balance)\n",
     "    \n",
     "    def check_pin(self, input_pin):\n",
     "        return self.pin == input_pin"
    ]
   },
   {
    "cell_type": "markdown",
    "metadata": {},
    "source": [
     "### Step 3: ATM Controller Class\n",
     "This class handles user interaction, allowing users to log in, validate their PIN, and perform ATM operations such as deposits, withdrawals, balance checks, and viewing transactions."
    ]
   },
   {
    "cell_type": "code",
    "execution_count": null,
    "metadata": {},
    "outputs": [],
    "source": [
     "# Step 3: ATM Controller Class\n",
     "\n",
     "class ATMController:\n",
     "    def __init__(self):\n",
     "        self.users = {}  # A dictionary to store users by their username\n",
     "    \n",
     "    def add_user(self, username, pin, initial_balance=0):\n",
     "        if username not in self.users:\n",
     "            self.users[username] = User(username, pin, initial_balance)\n",
     "            return f\"User '{username}' added successfully.\"\n",
     "        else:\n",
     "            return f\"User '{username}' already exists.\"\n",
     "    \n",
     "    def login(self, username, pin):\n",
     "        if username in self.users:\n",
     "            user = self.users[username]\n",
     "            if user.check_pin(pin):\n",
     "                print(f\"Welcome {username}!\")\n",
     "                self.user_session(user)\n",
     "            else:\n",
     "                print(\"Incorrect PIN.\")\n",
     "        else:\n",
     "            print(\"User not found.\")\n",
     "    \n",
     "    def user_session(self, user):\n",
     "        while True:\n",
     "            print(\"\\nOptions: \\n1. Check Balance \\n2. Deposit \\n3. Withdraw \\n4. View Transactions \\n5. Exit\")\n",
     "            choice = input(\"Choose an option: \")\n",
     "            \n",
     "            if choice == '1':\n",
     "                print(f\"Your balance is: ${user.atm.check_balance()}\")\n",
     "            elif choice == '2':\n",
     "                amount = float(input(\"Enter deposit amount: \"))\n",
     "                print(user.atm.deposit(amount))\n",
     "            elif choice == '3':\n",
     "                amount = float(input(\"Enter withdrawal amount: \"))\n",
     "                print(user.atm.withdraw(amount))\n",
     "            elif choice == '4':\n",
     "                print(user.atm.view_transactions())\n",
     "            elif choice == '5':\n",
     "                print(\"Logging out...\")\n",
     "                break\n",
     "            else:\n",
     "                print(\"Invalid option. Please try again.\")"
    ]
   },
   {
    "cell_type": "markdown",
    "metadata": {},
    "source": [
     "### Step 4: Main Simulation\n",
     "This final section of the project serves as the entry point, allowing users to create accounts, log in, and perform ATM operations."
    ]
   },
   {
    "cell_type": "code",
    "execution_count": null,
    "metadata": {},
    "outputs": [],
    "source": [
     "# Step 4: Main Simulation\n",
     "\n",
     "if __name__ == \"__main__\":\n",
     "    atm_controller = ATMController()\n",
     "    \n",
     "    # Adding some test users\n",
     "    atm_controller.add_user(\"John\", \"1234\", 1000)\n",
     "    atm_controller.add_user(\"Jane\", \"5678\", 500)\n",
     "    \n",
     "    while True:\n",
     "        print(\"\\n1. Create Account \\n2. Login \\n3. Exit\")\n",
     "        action = input(\"Choose an option: \")\n",
     "        \n",
     "        if action == '1':\n",
     "            username = input(\"Enter username: \")\n",
     "            pin = input(\"Enter PIN: \")\n",
     "            balance = float(input(\"Enter initial balance: \"))\n",
     "            print(atm_controller.add_user(username, pin, balance))\n",
     "        \n",
     "        elif action == '2':\n",
     "            username = input(\"Enter username: \")\n",
     "            pin = input(\"Enter PIN: \")\n",
     "            atm_controller.login(username, pin)\n",
     "        \n",
     "        elif action == '3':\n",
     "            print(\"Exiting...\")\n",
     "            break\n",
     "        \n",
     "        else:\n",
     "            print(\"Invalid option.\")"
    ]
   },
   {
    "cell_type": "markdown",
    "metadata": {},
    "source": [
     "### Conclusion\n",
     "This project demonstrates how to build a simple ATM system using Python and OOP principles.\n",
     "\n",
     "Enhancements such as the PIN system, transaction history, and multiple user accounts are implemented.\n",
     "Further improvements can include setting withdrawal limits, adding a graphical user interface (GUI), or connecting the ATM to a database for persistent data storage."
    ]
   }
  ],
  "metadata": {
   "kernelspec": {
    "display_name": "Python 3",
    "language": "python",
    "name": "python3"
   },
   "language_info": {
    "codemirror_mode": {
     "name": "ipython",
     "version": 3
    },
    "file_extension": ".py",
    "mimetype": "text/x-python",
    "name": "python",
    "nbconvert_exporter": "python",
    "version": "3.9.7"
   }
  },
  "nbformat": 4,
  "nbformat_minor": 4
 }
 